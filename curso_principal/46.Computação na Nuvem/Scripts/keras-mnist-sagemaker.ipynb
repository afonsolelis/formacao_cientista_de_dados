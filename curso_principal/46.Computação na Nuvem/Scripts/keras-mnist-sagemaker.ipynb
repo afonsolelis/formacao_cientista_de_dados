{
 "cells": [
  {
   "cell_type": "markdown",
   "metadata": {},
   "source": [
    "# Treinamento e implantação com Keras CNN no SageMaker"
   ]
  },
  {
   "cell_type": "markdown",
   "metadata": {},
   "source": [
    "Baseado em https://aws.amazon.com/blogs/machine-learning/train-and-deploy-keras-models-with-tensorflow-and-apache-mxnet-on-amazon-sagemaker/\n",
    "\n",
    "Modificamos nosso exemplo Keras MNIST do exercício anterior no script mnist-train-cnn.py que você deve carregar no diretório deste Notebook. É o mesmo código do exercício anterior, mas com um pouco de conteúdo extra para permitir que os hiperparâmetros sejam passados como argumentos do SageMaker."
   ]
  },
  {
   "cell_type": "code",
   "execution_count": 1,
   "metadata": {},
   "outputs": [],
   "source": [
    "import sagemaker\n",
    "#criamos seção e execução do sagemaker\n",
    "sess = sagemaker.Session()\n",
    "role = sagemaker.get_execution_role()"
   ]
  },
  {
   "cell_type": "markdown",
   "metadata": {},
   "source": [
    "## Salve o conjunto de dados MNIST no disco\n",
    "para podermos fazer upload no S3"
   ]
  },
  {
   "cell_type": "code",
   "execution_count": 2,
   "metadata": {},
   "outputs": [
    {
     "name": "stderr",
     "output_type": "stream",
     "text": [
      "Using TensorFlow backend.\n"
     ]
    },
    {
     "name": "stdout",
     "output_type": "stream",
     "text": [
      "WARNING:tensorflow:From /home/ec2-user/anaconda3/envs/tensorflow_p36/cpu/lib/python3.6/site-packages/tensorflow_core/__init__.py:1473: The name tf.estimator.inputs is deprecated. Please use tf.compat.v1.estimator.inputs instead.\n",
      "\n",
      "Downloading data from https://s3.amazonaws.com/img-datasets/mnist.npz\n",
      "11493376/11490434 [==============================] - 0s 0us/step\n"
     ]
    }
   ],
   "source": [
    "import os\n",
    "import keras\n",
    "import numpy as np\n",
    "from keras.datasets import mnist\n",
    "(x_train, y_train), (x_val, y_val) = mnist.load_data()\n",
    "\n",
    "#cria-se estrutura de diretórios, salva dados de treino e teste\n",
    "os.makedirs(\"./data\", exist_ok = True)\n",
    "\n",
    "np.savez('./data/training', image=x_train, label=y_train)\n",
    "np.savez('./data/validation', image=x_val, label=y_val)"
   ]
  },
  {
   "cell_type": "markdown",
   "metadata": {},
   "source": [
    "## Carregar dados MNIST para S3\n",
    "\n",
    "Observe que sess.upload_data cria automaticamente um bucket S3 que atende aos critérios de segurança de começar com \"sagemaker-\"."
   ]
  },
  {
   "cell_type": "code",
   "execution_count": 3,
   "metadata": {},
   "outputs": [
    {
     "name": "stdout",
     "output_type": "stream",
     "text": [
      "s3://sagemaker-us-east-1-358472144000/keras-mnist/training/training.npz\n",
      "s3://sagemaker-us-east-1-358472144000/keras-mnist/validation/validation.npz\n"
     ]
    }
   ],
   "source": [
    "prefix = 'keras-mnist'\n",
    "\n",
    "training_input_path   = sess.upload_data('data/training.npz', key_prefix=prefix+'/training')\n",
    "validation_input_path = sess.upload_data('data/validation.npz', key_prefix=prefix+'/validation')\n",
    "\n",
    "print(training_input_path)\n",
    "print(validation_input_path)"
   ]
  },
  {
   "cell_type": "markdown",
   "metadata": {},
   "source": [
    "## Teste nosso script de treinamento CNN localmente na instância do notebook\n",
    "\n",
    "Testaremos a execução de uma única epoch, apenas para garantir que o script funcione antes de começarmos a gastar dinheiro para treiná-lo posteriormente.\n",
    "Mesma CNN usada anteriormente, porém adicionamos código para tratar hiperparâmetros de acordo com o Sagemaker e salvar o modelo"
   ]
  },
  {
   "cell_type": "code",
   "execution_count": 4,
   "metadata": {},
   "outputs": [
    {
     "name": "stdout",
     "output_type": "stream",
     "text": [
      "\u001b[34mimport\u001b[39;49;00m \u001b[04m\u001b[36margparse\u001b[39;49;00m, \u001b[04m\u001b[36mos\u001b[39;49;00m\r\n",
      "\u001b[34mimport\u001b[39;49;00m \u001b[04m\u001b[36mnumpy\u001b[39;49;00m \u001b[34mas\u001b[39;49;00m \u001b[04m\u001b[36mnp\u001b[39;49;00m\r\n",
      "\r\n",
      "\u001b[34mimport\u001b[39;49;00m \u001b[04m\u001b[36mtensorflow\u001b[39;49;00m\r\n",
      "\r\n",
      "\u001b[34mfrom\u001b[39;49;00m \u001b[04m\u001b[36mtensorflow\u001b[39;49;00m\u001b[04m\u001b[36m.\u001b[39;49;00m\u001b[04m\u001b[36mkeras\u001b[39;49;00m \u001b[34mimport\u001b[39;49;00m backend \u001b[34mas\u001b[39;49;00m K\r\n",
      "\u001b[34mfrom\u001b[39;49;00m \u001b[04m\u001b[36mtensorflow\u001b[39;49;00m\u001b[04m\u001b[36m.\u001b[39;49;00m\u001b[04m\u001b[36mkeras\u001b[39;49;00m\u001b[04m\u001b[36m.\u001b[39;49;00m\u001b[04m\u001b[36mmodels\u001b[39;49;00m \u001b[34mimport\u001b[39;49;00m Sequential\r\n",
      "\u001b[34mfrom\u001b[39;49;00m \u001b[04m\u001b[36mtensorflow\u001b[39;49;00m\u001b[04m\u001b[36m.\u001b[39;49;00m\u001b[04m\u001b[36mkeras\u001b[39;49;00m\u001b[04m\u001b[36m.\u001b[39;49;00m\u001b[04m\u001b[36mlayers\u001b[39;49;00m \u001b[34mimport\u001b[39;49;00m Dense, Dropout, Activation, Flatten, BatchNormalization, Conv2D, MaxPooling2D\r\n",
      "\u001b[34mfrom\u001b[39;49;00m \u001b[04m\u001b[36mtensorflow\u001b[39;49;00m\u001b[04m\u001b[36m.\u001b[39;49;00m\u001b[04m\u001b[36mkeras\u001b[39;49;00m\u001b[04m\u001b[36m.\u001b[39;49;00m\u001b[04m\u001b[36moptimizers\u001b[39;49;00m \u001b[34mimport\u001b[39;49;00m Adam\r\n",
      "\u001b[34mfrom\u001b[39;49;00m \u001b[04m\u001b[36mtensorflow\u001b[39;49;00m\u001b[04m\u001b[36m.\u001b[39;49;00m\u001b[04m\u001b[36mkeras\u001b[39;49;00m\u001b[04m\u001b[36m.\u001b[39;49;00m\u001b[04m\u001b[36mutils\u001b[39;49;00m \u001b[34mimport\u001b[39;49;00m multi_gpu_model\r\n",
      "\r\n",
      "\u001b[34mif\u001b[39;49;00m \u001b[31m__name__\u001b[39;49;00m == \u001b[33m'\u001b[39;49;00m\u001b[33m__main__\u001b[39;49;00m\u001b[33m'\u001b[39;49;00m:\r\n",
      "\r\n",
      "    parser = argparse.ArgumentParser()\r\n",
      "\r\n",
      "    parser.add_argument(\u001b[33m'\u001b[39;49;00m\u001b[33m--epochs\u001b[39;49;00m\u001b[33m'\u001b[39;49;00m, \u001b[36mtype\u001b[39;49;00m=\u001b[36mint\u001b[39;49;00m, default=\u001b[34m10\u001b[39;49;00m)\r\n",
      "    parser.add_argument(\u001b[33m'\u001b[39;49;00m\u001b[33m--learning-rate\u001b[39;49;00m\u001b[33m'\u001b[39;49;00m, \u001b[36mtype\u001b[39;49;00m=\u001b[36mfloat\u001b[39;49;00m, default=\u001b[34m0.001\u001b[39;49;00m)\r\n",
      "    parser.add_argument(\u001b[33m'\u001b[39;49;00m\u001b[33m--batch-size\u001b[39;49;00m\u001b[33m'\u001b[39;49;00m, \u001b[36mtype\u001b[39;49;00m=\u001b[36mint\u001b[39;49;00m, default=\u001b[34m32\u001b[39;49;00m)\r\n",
      "    parser.add_argument(\u001b[33m'\u001b[39;49;00m\u001b[33m--gpu-count\u001b[39;49;00m\u001b[33m'\u001b[39;49;00m, \u001b[36mtype\u001b[39;49;00m=\u001b[36mint\u001b[39;49;00m, default=os.environ[\u001b[33m'\u001b[39;49;00m\u001b[33mSM_NUM_GPUS\u001b[39;49;00m\u001b[33m'\u001b[39;49;00m])\r\n",
      "    parser.add_argument(\u001b[33m'\u001b[39;49;00m\u001b[33m--model-dir\u001b[39;49;00m\u001b[33m'\u001b[39;49;00m, \u001b[36mtype\u001b[39;49;00m=\u001b[36mstr\u001b[39;49;00m, default=os.environ[\u001b[33m'\u001b[39;49;00m\u001b[33mSM_MODEL_DIR\u001b[39;49;00m\u001b[33m'\u001b[39;49;00m])\r\n",
      "    parser.add_argument(\u001b[33m'\u001b[39;49;00m\u001b[33m--training\u001b[39;49;00m\u001b[33m'\u001b[39;49;00m, \u001b[36mtype\u001b[39;49;00m=\u001b[36mstr\u001b[39;49;00m, default=os.environ[\u001b[33m'\u001b[39;49;00m\u001b[33mSM_CHANNEL_TRAINING\u001b[39;49;00m\u001b[33m'\u001b[39;49;00m])\r\n",
      "    parser.add_argument(\u001b[33m'\u001b[39;49;00m\u001b[33m--validation\u001b[39;49;00m\u001b[33m'\u001b[39;49;00m, \u001b[36mtype\u001b[39;49;00m=\u001b[36mstr\u001b[39;49;00m, default=os.environ[\u001b[33m'\u001b[39;49;00m\u001b[33mSM_CHANNEL_VALIDATION\u001b[39;49;00m\u001b[33m'\u001b[39;49;00m])\r\n",
      "\r\n",
      "    args, _ = parser.parse_known_args()\r\n",
      "\r\n",
      "    epochs     = args.epochs\r\n",
      "    lr         = args.learning_rate\r\n",
      "    batch_size = args.batch_size\r\n",
      "    gpu_count  = args.gpu_count\r\n",
      "    model_dir  = args.model_dir\r\n",
      "    training_dir   = args.training\r\n",
      "    validation_dir = args.validation\r\n",
      "\r\n",
      "    mnist_train_images = np.load(os.path.join(training_dir, \u001b[33m'\u001b[39;49;00m\u001b[33mtraining.npz\u001b[39;49;00m\u001b[33m'\u001b[39;49;00m))[\u001b[33m'\u001b[39;49;00m\u001b[33mimage\u001b[39;49;00m\u001b[33m'\u001b[39;49;00m]\r\n",
      "    mnist_train_labels = np.load(os.path.join(training_dir, \u001b[33m'\u001b[39;49;00m\u001b[33mtraining.npz\u001b[39;49;00m\u001b[33m'\u001b[39;49;00m))[\u001b[33m'\u001b[39;49;00m\u001b[33mlabel\u001b[39;49;00m\u001b[33m'\u001b[39;49;00m]\r\n",
      "    mnist_test_images  = np.load(os.path.join(validation_dir, \u001b[33m'\u001b[39;49;00m\u001b[33mvalidation.npz\u001b[39;49;00m\u001b[33m'\u001b[39;49;00m))[\u001b[33m'\u001b[39;49;00m\u001b[33mimage\u001b[39;49;00m\u001b[33m'\u001b[39;49;00m]\r\n",
      "    mnist_test_labels  = np.load(os.path.join(validation_dir, \u001b[33m'\u001b[39;49;00m\u001b[33mvalidation.npz\u001b[39;49;00m\u001b[33m'\u001b[39;49;00m))[\u001b[33m'\u001b[39;49;00m\u001b[33mlabel\u001b[39;49;00m\u001b[33m'\u001b[39;49;00m]\r\n",
      "\r\n",
      "    K.set_image_data_format(\u001b[33m'\u001b[39;49;00m\u001b[33mchannels_last\u001b[39;49;00m\u001b[33m'\u001b[39;49;00m)\r\n",
      "\r\n",
      "    train_images = mnist_train_images.reshape(mnist_train_images.shape[\u001b[34m0\u001b[39;49;00m], \u001b[34m28\u001b[39;49;00m, \u001b[34m28\u001b[39;49;00m, \u001b[34m1\u001b[39;49;00m)\r\n",
      "    test_images = mnist_test_images.reshape(mnist_test_images.shape[\u001b[34m0\u001b[39;49;00m], \u001b[34m28\u001b[39;49;00m, \u001b[34m28\u001b[39;49;00m, \u001b[34m1\u001b[39;49;00m)\r\n",
      "    input_shape = (\u001b[34m28\u001b[39;49;00m, \u001b[34m28\u001b[39;49;00m, \u001b[34m1\u001b[39;49;00m)\r\n",
      "\r\n",
      "    train_images = train_images.astype(\u001b[33m'\u001b[39;49;00m\u001b[33mfloat32\u001b[39;49;00m\u001b[33m'\u001b[39;49;00m)\r\n",
      "    test_images = test_images.astype(\u001b[33m'\u001b[39;49;00m\u001b[33mfloat32\u001b[39;49;00m\u001b[33m'\u001b[39;49;00m)\r\n",
      "    train_images /= \u001b[34m255\u001b[39;49;00m\r\n",
      "    test_images /= \u001b[34m255\u001b[39;49;00m\r\n",
      "\r\n",
      "    train_labels = tensorflow.keras.utils.to_categorical(mnist_train_labels, \u001b[34m10\u001b[39;49;00m)\r\n",
      "    test_labels = tensorflow.keras.utils.to_categorical(mnist_test_labels, \u001b[34m10\u001b[39;49;00m)\r\n",
      "\r\n",
      "    model = Sequential()\r\n",
      "    model.add(Conv2D(\u001b[34m32\u001b[39;49;00m, kernel_size=(\u001b[34m3\u001b[39;49;00m, \u001b[34m3\u001b[39;49;00m),\r\n",
      "                     activation=\u001b[33m'\u001b[39;49;00m\u001b[33mrelu\u001b[39;49;00m\u001b[33m'\u001b[39;49;00m,\r\n",
      "                     input_shape=input_shape))\r\n",
      "    \u001b[37m# 64 3x3 kernels\u001b[39;49;00m\r\n",
      "    model.add(Conv2D(\u001b[34m64\u001b[39;49;00m, (\u001b[34m3\u001b[39;49;00m, \u001b[34m3\u001b[39;49;00m), activation=\u001b[33m'\u001b[39;49;00m\u001b[33mrelu\u001b[39;49;00m\u001b[33m'\u001b[39;49;00m))\r\n",
      "    \u001b[37m# Reduce by taking the max of each 2x2 block\u001b[39;49;00m\r\n",
      "    model.add(MaxPooling2D(pool_size=(\u001b[34m2\u001b[39;49;00m, \u001b[34m2\u001b[39;49;00m)))\r\n",
      "    \u001b[37m# Dropout to avoid overfitting\u001b[39;49;00m\r\n",
      "    model.add(Dropout(\u001b[34m0.25\u001b[39;49;00m))\r\n",
      "    \u001b[37m# Flatten the results to one dimension for passing into our final layer\u001b[39;49;00m\r\n",
      "    model.add(Flatten())\r\n",
      "    \u001b[37m# A hidden layer to learn with\u001b[39;49;00m\r\n",
      "    model.add(Dense(\u001b[34m128\u001b[39;49;00m, activation=\u001b[33m'\u001b[39;49;00m\u001b[33mrelu\u001b[39;49;00m\u001b[33m'\u001b[39;49;00m))\r\n",
      "    \u001b[37m# Another dropout\u001b[39;49;00m\r\n",
      "    model.add(Dropout(\u001b[34m0.5\u001b[39;49;00m))\r\n",
      "    \u001b[37m# Final categorization from 0-9 with softmax\u001b[39;49;00m\r\n",
      "    model.add(Dense(\u001b[34m10\u001b[39;49;00m, activation=\u001b[33m'\u001b[39;49;00m\u001b[33msoftmax\u001b[39;49;00m\u001b[33m'\u001b[39;49;00m))\r\n",
      "\r\n",
      "    \u001b[36mprint\u001b[39;49;00m(model.summary())\r\n",
      "\r\n",
      "    \u001b[34mif\u001b[39;49;00m gpu_count > \u001b[34m1\u001b[39;49;00m:\r\n",
      "        model = multi_gpu_model(model, gpus=gpu_count)\r\n",
      "\r\n",
      "    model.compile(loss=tensorflow.keras.losses.categorical_crossentropy,\r\n",
      "                  optimizer=Adam(lr=lr),\r\n",
      "                  metrics=[\u001b[33m'\u001b[39;49;00m\u001b[33maccuracy\u001b[39;49;00m\u001b[33m'\u001b[39;49;00m])\r\n",
      "\r\n",
      "    model.fit(train_images, train_labels, batch_size=batch_size,\r\n",
      "                  validation_data=(test_images, test_labels),\r\n",
      "                  epochs=epochs,\r\n",
      "                  verbose=\u001b[34m2\u001b[39;49;00m)\r\n",
      "\r\n",
      "    score = model.evaluate(test_images, test_labels, verbose=\u001b[34m0\u001b[39;49;00m)\r\n",
      "    \u001b[36mprint\u001b[39;49;00m(\u001b[33m'\u001b[39;49;00m\u001b[33mValidation loss    :\u001b[39;49;00m\u001b[33m'\u001b[39;49;00m, score[\u001b[34m0\u001b[39;49;00m])\r\n",
      "    \u001b[36mprint\u001b[39;49;00m(\u001b[33m'\u001b[39;49;00m\u001b[33mValidation accuracy:\u001b[39;49;00m\u001b[33m'\u001b[39;49;00m, score[\u001b[34m1\u001b[39;49;00m])\r\n",
      "\r\n",
      "    \u001b[37m# save Keras model for Tensorflow Serving\u001b[39;49;00m\r\n",
      "    sess = K.get_session()\r\n",
      "    tensorflow.saved_model.simple_save(\r\n",
      "        sess,\r\n",
      "        os.path.join(model_dir, \u001b[33m'\u001b[39;49;00m\u001b[33mmodel/1\u001b[39;49;00m\u001b[33m'\u001b[39;49;00m),\r\n",
      "        inputs={\u001b[33m'\u001b[39;49;00m\u001b[33minputs\u001b[39;49;00m\u001b[33m'\u001b[39;49;00m: model.input},\r\n",
      "        outputs={t.name: t \u001b[34mfor\u001b[39;49;00m t \u001b[35min\u001b[39;49;00m model.outputs})\r\n"
     ]
    }
   ],
   "source": [
    "!pygmentize mnist-train-cnn.py"
   ]
  },
  {
   "cell_type": "code",
   "execution_count": 5,
   "metadata": {},
   "outputs": [],
   "source": [
    "#agora rodamos o script anterior com apenas 1 epoch\n",
    "from sagemaker.tensorflow import TensorFlow\n",
    "\n",
    "tf_estimator = TensorFlow(entry_point='mnist-train-cnn.py', \n",
    "                          role=role,\n",
    "                          instance_count=1, \n",
    "                          instance_type='local',\n",
    "                          framework_version='1.12', \n",
    "                          py_version='py3',\n",
    "                          script_mode=True,\n",
    "                          hyperparameters={'epochs': 1}\n",
    "                         )"
   ]
  },
  {
   "cell_type": "code",
   "execution_count": 6,
   "metadata": {},
   "outputs": [
    {
     "name": "stdout",
     "output_type": "stream",
     "text": [
      "Creating d0uhfi5xip-algo-1-kfzly ... \n",
      "Creating d0uhfi5xip-algo-1-kfzly ... done\n",
      "Attaching to d0uhfi5xip-algo-1-kfzly\n",
      "\u001b[36md0uhfi5xip-algo-1-kfzly |\u001b[0m 2021-07-07 16:04:15,076 sagemaker-containers INFO     Imported framework sagemaker_tensorflow_container.training\n",
      "\u001b[36md0uhfi5xip-algo-1-kfzly |\u001b[0m 2021-07-07 16:04:15,082 sagemaker-containers INFO     No GPUs detected (normal if no gpus installed)\n",
      "\u001b[36md0uhfi5xip-algo-1-kfzly |\u001b[0m 2021-07-07 16:04:15,288 sagemaker-containers INFO     No GPUs detected (normal if no gpus installed)\n",
      "\u001b[36md0uhfi5xip-algo-1-kfzly |\u001b[0m 2021-07-07 16:04:15,307 sagemaker-containers INFO     No GPUs detected (normal if no gpus installed)\n",
      "\u001b[36md0uhfi5xip-algo-1-kfzly |\u001b[0m 2021-07-07 16:04:15,321 sagemaker-containers INFO     Invoking user script\n",
      "\u001b[36md0uhfi5xip-algo-1-kfzly |\u001b[0m \n",
      "\u001b[36md0uhfi5xip-algo-1-kfzly |\u001b[0m Training Env:\n",
      "\u001b[36md0uhfi5xip-algo-1-kfzly |\u001b[0m \n",
      "\u001b[36md0uhfi5xip-algo-1-kfzly |\u001b[0m {\n",
      "\u001b[36md0uhfi5xip-algo-1-kfzly |\u001b[0m     \"additional_framework_parameters\": {},\n",
      "\u001b[36md0uhfi5xip-algo-1-kfzly |\u001b[0m     \"channel_input_dirs\": {\n",
      "\u001b[36md0uhfi5xip-algo-1-kfzly |\u001b[0m         \"training\": \"/opt/ml/input/data/training\",\n",
      "\u001b[36md0uhfi5xip-algo-1-kfzly |\u001b[0m         \"validation\": \"/opt/ml/input/data/validation\"\n",
      "\u001b[36md0uhfi5xip-algo-1-kfzly |\u001b[0m     },\n",
      "\u001b[36md0uhfi5xip-algo-1-kfzly |\u001b[0m     \"current_host\": \"algo-1-kfzly\",\n",
      "\u001b[36md0uhfi5xip-algo-1-kfzly |\u001b[0m     \"framework_module\": \"sagemaker_tensorflow_container.training:main\",\n",
      "\u001b[36md0uhfi5xip-algo-1-kfzly |\u001b[0m     \"hosts\": [\n",
      "\u001b[36md0uhfi5xip-algo-1-kfzly |\u001b[0m         \"algo-1-kfzly\"\n",
      "\u001b[36md0uhfi5xip-algo-1-kfzly |\u001b[0m     ],\n",
      "\u001b[36md0uhfi5xip-algo-1-kfzly |\u001b[0m     \"hyperparameters\": {\n",
      "\u001b[36md0uhfi5xip-algo-1-kfzly |\u001b[0m         \"epochs\": 1,\n",
      "\u001b[36md0uhfi5xip-algo-1-kfzly |\u001b[0m         \"model_dir\": \"s3://sagemaker-us-east-1-358472144000/sagemaker-tensorflow-scriptmode-2021-07-07-16-03-32-161/model\"\n",
      "\u001b[36md0uhfi5xip-algo-1-kfzly |\u001b[0m     },\n",
      "\u001b[36md0uhfi5xip-algo-1-kfzly |\u001b[0m     \"input_config_dir\": \"/opt/ml/input/config\",\n",
      "\u001b[36md0uhfi5xip-algo-1-kfzly |\u001b[0m     \"input_data_config\": {\n",
      "\u001b[36md0uhfi5xip-algo-1-kfzly |\u001b[0m         \"training\": {\n",
      "\u001b[36md0uhfi5xip-algo-1-kfzly |\u001b[0m             \"TrainingInputMode\": \"File\"\n",
      "\u001b[36md0uhfi5xip-algo-1-kfzly |\u001b[0m         },\n",
      "\u001b[36md0uhfi5xip-algo-1-kfzly |\u001b[0m         \"validation\": {\n",
      "\u001b[36md0uhfi5xip-algo-1-kfzly |\u001b[0m             \"TrainingInputMode\": \"File\"\n",
      "\u001b[36md0uhfi5xip-algo-1-kfzly |\u001b[0m         }\n",
      "\u001b[36md0uhfi5xip-algo-1-kfzly |\u001b[0m     },\n",
      "\u001b[36md0uhfi5xip-algo-1-kfzly |\u001b[0m     \"input_dir\": \"/opt/ml/input\",\n",
      "\u001b[36md0uhfi5xip-algo-1-kfzly |\u001b[0m     \"is_master\": true,\n",
      "\u001b[36md0uhfi5xip-algo-1-kfzly |\u001b[0m     \"job_name\": \"sagemaker-tensorflow-scriptmode-2021-07-07-16-03-32-161\",\n",
      "\u001b[36md0uhfi5xip-algo-1-kfzly |\u001b[0m     \"log_level\": 20,\n",
      "\u001b[36md0uhfi5xip-algo-1-kfzly |\u001b[0m     \"master_hostname\": \"algo-1-kfzly\",\n",
      "\u001b[36md0uhfi5xip-algo-1-kfzly |\u001b[0m     \"model_dir\": \"/opt/ml/model\",\n",
      "\u001b[36md0uhfi5xip-algo-1-kfzly |\u001b[0m     \"module_dir\": \"s3://sagemaker-us-east-1-358472144000/sagemaker-tensorflow-scriptmode-2021-07-07-16-03-32-161/source/sourcedir.tar.gz\",\n",
      "\u001b[36md0uhfi5xip-algo-1-kfzly |\u001b[0m     \"module_name\": \"mnist-train-cnn\",\n",
      "\u001b[36md0uhfi5xip-algo-1-kfzly |\u001b[0m     \"network_interface_name\": \"eth0\",\n",
      "\u001b[36md0uhfi5xip-algo-1-kfzly |\u001b[0m     \"num_cpus\": 2,\n",
      "\u001b[36md0uhfi5xip-algo-1-kfzly |\u001b[0m     \"num_gpus\": 0,\n",
      "\u001b[36md0uhfi5xip-algo-1-kfzly |\u001b[0m     \"output_data_dir\": \"/opt/ml/output/data\",\n",
      "\u001b[36md0uhfi5xip-algo-1-kfzly |\u001b[0m     \"output_dir\": \"/opt/ml/output\",\n",
      "\u001b[36md0uhfi5xip-algo-1-kfzly |\u001b[0m     \"output_intermediate_dir\": \"/opt/ml/output/intermediate\",\n",
      "\u001b[36md0uhfi5xip-algo-1-kfzly |\u001b[0m     \"resource_config\": {\n",
      "\u001b[36md0uhfi5xip-algo-1-kfzly |\u001b[0m         \"current_host\": \"algo-1-kfzly\",\n",
      "\u001b[36md0uhfi5xip-algo-1-kfzly |\u001b[0m         \"hosts\": [\n",
      "\u001b[36md0uhfi5xip-algo-1-kfzly |\u001b[0m             \"algo-1-kfzly\"\n",
      "\u001b[36md0uhfi5xip-algo-1-kfzly |\u001b[0m         ]\n",
      "\u001b[36md0uhfi5xip-algo-1-kfzly |\u001b[0m     },\n",
      "\u001b[36md0uhfi5xip-algo-1-kfzly |\u001b[0m     \"user_entry_point\": \"mnist-train-cnn.py\"\n",
      "\u001b[36md0uhfi5xip-algo-1-kfzly |\u001b[0m }\n",
      "\u001b[36md0uhfi5xip-algo-1-kfzly |\u001b[0m \n",
      "\u001b[36md0uhfi5xip-algo-1-kfzly |\u001b[0m Environment variables:\n",
      "\u001b[36md0uhfi5xip-algo-1-kfzly |\u001b[0m \n",
      "\u001b[36md0uhfi5xip-algo-1-kfzly |\u001b[0m SM_HOSTS=[\"algo-1-kfzly\"]\n",
      "\u001b[36md0uhfi5xip-algo-1-kfzly |\u001b[0m SM_NETWORK_INTERFACE_NAME=eth0\n",
      "\u001b[36md0uhfi5xip-algo-1-kfzly |\u001b[0m SM_HPS={\"epochs\":1,\"model_dir\":\"s3://sagemaker-us-east-1-358472144000/sagemaker-tensorflow-scriptmode-2021-07-07-16-03-32-161/model\"}\n",
      "\u001b[36md0uhfi5xip-algo-1-kfzly |\u001b[0m SM_USER_ENTRY_POINT=mnist-train-cnn.py\n",
      "\u001b[36md0uhfi5xip-algo-1-kfzly |\u001b[0m SM_FRAMEWORK_PARAMS={}\n",
      "\u001b[36md0uhfi5xip-algo-1-kfzly |\u001b[0m SM_RESOURCE_CONFIG={\"current_host\":\"algo-1-kfzly\",\"hosts\":[\"algo-1-kfzly\"]}\n",
      "\u001b[36md0uhfi5xip-algo-1-kfzly |\u001b[0m SM_INPUT_DATA_CONFIG={\"training\":{\"TrainingInputMode\":\"File\"},\"validation\":{\"TrainingInputMode\":\"File\"}}\n",
      "\u001b[36md0uhfi5xip-algo-1-kfzly |\u001b[0m SM_OUTPUT_DATA_DIR=/opt/ml/output/data\n",
      "\u001b[36md0uhfi5xip-algo-1-kfzly |\u001b[0m SM_CHANNELS=[\"training\",\"validation\"]\n",
      "\u001b[36md0uhfi5xip-algo-1-kfzly |\u001b[0m SM_CURRENT_HOST=algo-1-kfzly\n",
      "\u001b[36md0uhfi5xip-algo-1-kfzly |\u001b[0m SM_MODULE_NAME=mnist-train-cnn\n",
      "\u001b[36md0uhfi5xip-algo-1-kfzly |\u001b[0m SM_LOG_LEVEL=20\n",
      "\u001b[36md0uhfi5xip-algo-1-kfzly |\u001b[0m SM_FRAMEWORK_MODULE=sagemaker_tensorflow_container.training:main\n",
      "\u001b[36md0uhfi5xip-algo-1-kfzly |\u001b[0m SM_INPUT_DIR=/opt/ml/input\n",
      "\u001b[36md0uhfi5xip-algo-1-kfzly |\u001b[0m SM_INPUT_CONFIG_DIR=/opt/ml/input/config\n",
      "\u001b[36md0uhfi5xip-algo-1-kfzly |\u001b[0m SM_OUTPUT_DIR=/opt/ml/output\n",
      "\u001b[36md0uhfi5xip-algo-1-kfzly |\u001b[0m SM_NUM_CPUS=2\n",
      "\u001b[36md0uhfi5xip-algo-1-kfzly |\u001b[0m SM_NUM_GPUS=0\n",
      "\u001b[36md0uhfi5xip-algo-1-kfzly |\u001b[0m SM_MODEL_DIR=/opt/ml/model\n",
      "\u001b[36md0uhfi5xip-algo-1-kfzly |\u001b[0m SM_MODULE_DIR=s3://sagemaker-us-east-1-358472144000/sagemaker-tensorflow-scriptmode-2021-07-07-16-03-32-161/source/sourcedir.tar.gz\n",
      "\u001b[36md0uhfi5xip-algo-1-kfzly |\u001b[0m SM_TRAINING_ENV={\"additional_framework_parameters\":{},\"channel_input_dirs\":{\"training\":\"/opt/ml/input/data/training\",\"validation\":\"/opt/ml/input/data/validation\"},\"current_host\":\"algo-1-kfzly\",\"framework_module\":\"sagemaker_tensorflow_container.training:main\",\"hosts\":[\"algo-1-kfzly\"],\"hyperparameters\":{\"epochs\":1,\"model_dir\":\"s3://sagemaker-us-east-1-358472144000/sagemaker-tensorflow-scriptmode-2021-07-07-16-03-32-161/model\"},\"input_config_dir\":\"/opt/ml/input/config\",\"input_data_config\":{\"training\":{\"TrainingInputMode\":\"File\"},\"validation\":{\"TrainingInputMode\":\"File\"}},\"input_dir\":\"/opt/ml/input\",\"is_master\":true,\"job_name\":\"sagemaker-tensorflow-scriptmode-2021-07-07-16-03-32-161\",\"log_level\":20,\"master_hostname\":\"algo-1-kfzly\",\"model_dir\":\"/opt/ml/model\",\"module_dir\":\"s3://sagemaker-us-east-1-358472144000/sagemaker-tensorflow-scriptmode-2021-07-07-16-03-32-161/source/sourcedir.tar.gz\",\"module_name\":\"mnist-train-cnn\",\"network_interface_name\":\"eth0\",\"num_cpus\":2,\"num_gpus\":0,\"output_data_dir\":\"/opt/ml/output/data\",\"output_dir\":\"/opt/ml/output\",\"output_intermediate_dir\":\"/opt/ml/output/intermediate\",\"resource_config\":{\"current_host\":\"algo-1-kfzly\",\"hosts\":[\"algo-1-kfzly\"]},\"user_entry_point\":\"mnist-train-cnn.py\"}\n",
      "\u001b[36md0uhfi5xip-algo-1-kfzly |\u001b[0m SM_USER_ARGS=[\"--epochs\",\"1\",\"--model_dir\",\"s3://sagemaker-us-east-1-358472144000/sagemaker-tensorflow-scriptmode-2021-07-07-16-03-32-161/model\"]\n",
      "\u001b[36md0uhfi5xip-algo-1-kfzly |\u001b[0m SM_OUTPUT_INTERMEDIATE_DIR=/opt/ml/output/intermediate\n",
      "\u001b[36md0uhfi5xip-algo-1-kfzly |\u001b[0m SM_CHANNEL_TRAINING=/opt/ml/input/data/training\n",
      "\u001b[36md0uhfi5xip-algo-1-kfzly |\u001b[0m SM_CHANNEL_VALIDATION=/opt/ml/input/data/validation\n",
      "\u001b[36md0uhfi5xip-algo-1-kfzly |\u001b[0m SM_HP_EPOCHS=1\n",
      "\u001b[36md0uhfi5xip-algo-1-kfzly |\u001b[0m SM_HP_MODEL_DIR=s3://sagemaker-us-east-1-358472144000/sagemaker-tensorflow-scriptmode-2021-07-07-16-03-32-161/model\n",
      "\u001b[36md0uhfi5xip-algo-1-kfzly |\u001b[0m PYTHONPATH=/opt/ml/code:/usr/local/bin:/usr/lib/python36.zip:/usr/lib/python3.6:/usr/lib/python3.6/lib-dynload:/usr/local/lib/python3.6/dist-packages:/usr/lib/python3/dist-packages\n",
      "\u001b[36md0uhfi5xip-algo-1-kfzly |\u001b[0m \n",
      "\u001b[36md0uhfi5xip-algo-1-kfzly |\u001b[0m Invoking script with the following command:\n",
      "\u001b[36md0uhfi5xip-algo-1-kfzly |\u001b[0m \n",
      "\u001b[36md0uhfi5xip-algo-1-kfzly |\u001b[0m /usr/bin/python mnist-train-cnn.py --epochs 1 --model_dir s3://sagemaker-us-east-1-358472144000/sagemaker-tensorflow-scriptmode-2021-07-07-16-03-32-161/model\n",
      "\u001b[36md0uhfi5xip-algo-1-kfzly |\u001b[0m \n",
      "\u001b[36md0uhfi5xip-algo-1-kfzly |\u001b[0m \n",
      "\u001b[36md0uhfi5xip-algo-1-kfzly |\u001b[0m _________________________________________________________________\n",
      "\u001b[36md0uhfi5xip-algo-1-kfzly |\u001b[0m Layer (type)                 Output Shape              Param #   \n",
      "\u001b[36md0uhfi5xip-algo-1-kfzly |\u001b[0m =================================================================\n",
      "\u001b[36md0uhfi5xip-algo-1-kfzly |\u001b[0m conv2d (Conv2D)              (None, 26, 26, 32)        320       \n",
      "\u001b[36md0uhfi5xip-algo-1-kfzly |\u001b[0m _________________________________________________________________\n",
      "\u001b[36md0uhfi5xip-algo-1-kfzly |\u001b[0m conv2d_1 (Conv2D)            (None, 24, 24, 64)        18496     \n",
      "\u001b[36md0uhfi5xip-algo-1-kfzly |\u001b[0m _________________________________________________________________\n",
      "\u001b[36md0uhfi5xip-algo-1-kfzly |\u001b[0m max_pooling2d (MaxPooling2D) (None, 12, 12, 64)        0         \n",
      "\u001b[36md0uhfi5xip-algo-1-kfzly |\u001b[0m _________________________________________________________________\n",
      "\u001b[36md0uhfi5xip-algo-1-kfzly |\u001b[0m dropout (Dropout)            (None, 12, 12, 64)        0         \n",
      "\u001b[36md0uhfi5xip-algo-1-kfzly |\u001b[0m _________________________________________________________________\n",
      "\u001b[36md0uhfi5xip-algo-1-kfzly |\u001b[0m flatten (Flatten)            (None, 9216)              0         \n",
      "\u001b[36md0uhfi5xip-algo-1-kfzly |\u001b[0m _________________________________________________________________\n",
      "\u001b[36md0uhfi5xip-algo-1-kfzly |\u001b[0m dense (Dense)                (None, 128)               1179776   \n",
      "\u001b[36md0uhfi5xip-algo-1-kfzly |\u001b[0m _________________________________________________________________\n",
      "\u001b[36md0uhfi5xip-algo-1-kfzly |\u001b[0m dropout_1 (Dropout)          (None, 128)               0         \n",
      "\u001b[36md0uhfi5xip-algo-1-kfzly |\u001b[0m _________________________________________________________________\n",
      "\u001b[36md0uhfi5xip-algo-1-kfzly |\u001b[0m dense_1 (Dense)              (None, 10)                1290      \n",
      "\u001b[36md0uhfi5xip-algo-1-kfzly |\u001b[0m =================================================================\n",
      "\u001b[36md0uhfi5xip-algo-1-kfzly |\u001b[0m Total params: 1,199,882\n",
      "\u001b[36md0uhfi5xip-algo-1-kfzly |\u001b[0m Trainable params: 1,199,882\n",
      "\u001b[36md0uhfi5xip-algo-1-kfzly |\u001b[0m Non-trainable params: 0\n",
      "\u001b[36md0uhfi5xip-algo-1-kfzly |\u001b[0m _________________________________________________________________\n",
      "\u001b[36md0uhfi5xip-algo-1-kfzly |\u001b[0m None\n",
      "\u001b[36md0uhfi5xip-algo-1-kfzly |\u001b[0m Train on 60000 samples, validate on 10000 samples\n",
      "\u001b[36md0uhfi5xip-algo-1-kfzly |\u001b[0m Epoch 1/1\n",
      "\u001b[36md0uhfi5xip-algo-1-kfzly |\u001b[0m  - 94s - loss: 0.1969 - acc: 0.9401 - val_loss: 0.0546 - val_acc: 0.9830\n",
      "\u001b[36md0uhfi5xip-algo-1-kfzly |\u001b[0m Validation loss    : 0.054638445666950426\n",
      "\u001b[36md0uhfi5xip-algo-1-kfzly |\u001b[0m Validation accuracy: 0.983\n",
      "\u001b[36md0uhfi5xip-algo-1-kfzly |\u001b[0m WARNING:tensorflow:From /usr/local/lib/python3.6/dist-packages/tensorflow/python/saved_model/simple_save.py:85: calling SavedModelBuilder.add_meta_graph_and_variables (from tensorflow.python.saved_model.builder_impl) with legacy_init_op is deprecated and will be removed in a future version.\n",
      "\u001b[36md0uhfi5xip-algo-1-kfzly |\u001b[0m Instructions for updating:\n",
      "\u001b[36md0uhfi5xip-algo-1-kfzly |\u001b[0m Pass your op to the equivalent parameter main_op instead.\n",
      "\u001b[36md0uhfi5xip-algo-1-kfzly |\u001b[0m 2021-07-07 16:05:56,010 sagemaker-containers INFO     Reporting training SUCCESS\n",
      "\u001b[36md0uhfi5xip-algo-1-kfzly exited with code 0\n",
      "\u001b[0mAborting on container exit...\n",
      "===== Job Complete =====\n"
     ]
    }
   ],
   "source": [
    "#iniciar o treino de fato\n",
    "tf_estimator.fit({'training': training_input_path, 'validation': validation_input_path})"
   ]
  },
  {
   "cell_type": "markdown",
   "metadata": {},
   "source": [
    "## Treine em uma instância de GPU com 10 épocas\n",
    "\n",
    "Agora que temos certeza de que funciona, podemos começar a gastar dinheiro em servidores mais robustos para treinar nossa CNN por mais epochs."
   ]
  },
  {
   "cell_type": "code",
   "execution_count": 9,
   "metadata": {},
   "outputs": [],
   "source": [
    "tf_estimator = TensorFlow(entry_point='mnist-train-cnn.py', \n",
    "                          role=role,\n",
    "                          instance_count=1, \n",
    "                          #instance_type='ml.p3.2xlarge',\n",
    "                          #instance_type='local',\n",
    "                          instance_type='ml.c5.2xlarge',\n",
    "                          framework_version='1.12', \n",
    "                          py_version='py3',\n",
    "                          script_mode=True,\n",
    "                          hyperparameters={\n",
    "                              'epochs': 10,\n",
    "                              'batch-size': 32,\n",
    "                              'learning-rate': 0.001}\n",
    "                         )"
   ]
  },
  {
   "cell_type": "code",
   "execution_count": 10,
   "metadata": {},
   "outputs": [
    {
     "name": "stdout",
     "output_type": "stream",
     "text": [
      "2021-07-07 16:09:55 Starting - Starting the training job...\n",
      "2021-07-07 16:10:19 Starting - Launching requested ML instancesProfilerReport-1625674195: InProgress\n",
      "......\n",
      "2021-07-07 16:11:19 Starting - Preparing the instances for training.........\n",
      "2021-07-07 16:12:43 Downloading - Downloading input data\n",
      "2021-07-07 16:12:43 Training - Downloading the training image..\u001b[34m2021-07-07 16:13:02,443 sagemaker-containers INFO     Imported framework sagemaker_tensorflow_container.training\u001b[0m\n",
      "\u001b[34m2021-07-07 16:13:02,447 sagemaker-containers INFO     No GPUs detected (normal if no gpus installed)\u001b[0m\n",
      "\u001b[34m2021-07-07 16:13:02,755 sagemaker-containers INFO     No GPUs detected (normal if no gpus installed)\u001b[0m\n",
      "\u001b[34m2021-07-07 16:13:02,769 sagemaker-containers INFO     No GPUs detected (normal if no gpus installed)\u001b[0m\n",
      "\u001b[34m2021-07-07 16:13:02,778 sagemaker-containers INFO     Invoking user script\n",
      "\u001b[0m\n",
      "\u001b[34mTraining Env:\n",
      "\u001b[0m\n",
      "\u001b[34m{\n",
      "    \"additional_framework_parameters\": {},\n",
      "    \"channel_input_dirs\": {\n",
      "        \"training\": \"/opt/ml/input/data/training\",\n",
      "        \"validation\": \"/opt/ml/input/data/validation\"\n",
      "    },\n",
      "    \"current_host\": \"algo-1\",\n",
      "    \"framework_module\": \"sagemaker_tensorflow_container.training:main\",\n",
      "    \"hosts\": [\n",
      "        \"algo-1\"\n",
      "    ],\n",
      "    \"hyperparameters\": {\n",
      "        \"batch-size\": 32,\n",
      "        \"learning-rate\": 0.001,\n",
      "        \"model_dir\": \"s3://sagemaker-us-east-1-358472144000/sagemaker-tensorflow-scriptmode-2021-07-07-16-09-55-198/model\",\n",
      "        \"epochs\": 10\n",
      "    },\n",
      "    \"input_config_dir\": \"/opt/ml/input/config\",\n",
      "    \"input_data_config\": {\n",
      "        \"training\": {\n",
      "            \"TrainingInputMode\": \"File\",\n",
      "            \"S3DistributionType\": \"FullyReplicated\",\n",
      "            \"RecordWrapperType\": \"None\"\n",
      "        },\n",
      "        \"validation\": {\n",
      "            \"TrainingInputMode\": \"File\",\n",
      "            \"S3DistributionType\": \"FullyReplicated\",\n",
      "            \"RecordWrapperType\": \"None\"\n",
      "        }\n",
      "    },\n",
      "    \"input_dir\": \"/opt/ml/input\",\n",
      "    \"is_master\": true,\n",
      "    \"job_name\": \"sagemaker-tensorflow-scriptmode-2021-07-07-16-09-55-198\",\n",
      "    \"log_level\": 20,\n",
      "    \"master_hostname\": \"algo-1\",\n",
      "    \"model_dir\": \"/opt/ml/model\",\n",
      "    \"module_dir\": \"s3://sagemaker-us-east-1-358472144000/sagemaker-tensorflow-scriptmode-2021-07-07-16-09-55-198/source/sourcedir.tar.gz\",\n",
      "    \"module_name\": \"mnist-train-cnn\",\n",
      "    \"network_interface_name\": \"eth0\",\n",
      "    \"num_cpus\": 8,\n",
      "    \"num_gpus\": 0,\n",
      "    \"output_data_dir\": \"/opt/ml/output/data\",\n",
      "    \"output_dir\": \"/opt/ml/output\",\n",
      "    \"output_intermediate_dir\": \"/opt/ml/output/intermediate\",\n",
      "    \"resource_config\": {\n",
      "        \"current_host\": \"algo-1\",\n",
      "        \"hosts\": [\n",
      "            \"algo-1\"\n",
      "        ],\n",
      "        \"network_interface_name\": \"eth0\"\n",
      "    },\n",
      "    \"user_entry_point\": \"mnist-train-cnn.py\"\u001b[0m\n",
      "\u001b[34m}\n",
      "\u001b[0m\n",
      "\u001b[34mEnvironment variables:\n",
      "\u001b[0m\n",
      "\u001b[34mSM_HOSTS=[\"algo-1\"]\u001b[0m\n",
      "\u001b[34mSM_NETWORK_INTERFACE_NAME=eth0\u001b[0m\n",
      "\u001b[34mSM_HPS={\"batch-size\":32,\"epochs\":10,\"learning-rate\":0.001,\"model_dir\":\"s3://sagemaker-us-east-1-358472144000/sagemaker-tensorflow-scriptmode-2021-07-07-16-09-55-198/model\"}\u001b[0m\n",
      "\u001b[34mSM_USER_ENTRY_POINT=mnist-train-cnn.py\u001b[0m\n",
      "\u001b[34mSM_FRAMEWORK_PARAMS={}\u001b[0m\n",
      "\u001b[34mSM_RESOURCE_CONFIG={\"current_host\":\"algo-1\",\"hosts\":[\"algo-1\"],\"network_interface_name\":\"eth0\"}\u001b[0m\n",
      "\u001b[34mSM_INPUT_DATA_CONFIG={\"training\":{\"RecordWrapperType\":\"None\",\"S3DistributionType\":\"FullyReplicated\",\"TrainingInputMode\":\"File\"},\"validation\":{\"RecordWrapperType\":\"None\",\"S3DistributionType\":\"FullyReplicated\",\"TrainingInputMode\":\"File\"}}\u001b[0m\n",
      "\u001b[34mSM_OUTPUT_DATA_DIR=/opt/ml/output/data\u001b[0m\n",
      "\u001b[34mSM_CHANNELS=[\"training\",\"validation\"]\u001b[0m\n",
      "\u001b[34mSM_CURRENT_HOST=algo-1\u001b[0m\n",
      "\u001b[34mSM_MODULE_NAME=mnist-train-cnn\u001b[0m\n",
      "\u001b[34mSM_LOG_LEVEL=20\u001b[0m\n",
      "\u001b[34mSM_FRAMEWORK_MODULE=sagemaker_tensorflow_container.training:main\u001b[0m\n",
      "\u001b[34mSM_INPUT_DIR=/opt/ml/input\u001b[0m\n",
      "\u001b[34mSM_INPUT_CONFIG_DIR=/opt/ml/input/config\u001b[0m\n",
      "\u001b[34mSM_OUTPUT_DIR=/opt/ml/output\u001b[0m\n",
      "\u001b[34mSM_NUM_CPUS=8\u001b[0m\n",
      "\u001b[34mSM_NUM_GPUS=0\u001b[0m\n",
      "\u001b[34mSM_MODEL_DIR=/opt/ml/model\u001b[0m\n",
      "\u001b[34mSM_MODULE_DIR=s3://sagemaker-us-east-1-358472144000/sagemaker-tensorflow-scriptmode-2021-07-07-16-09-55-198/source/sourcedir.tar.gz\u001b[0m\n",
      "\u001b[34mSM_TRAINING_ENV={\"additional_framework_parameters\":{},\"channel_input_dirs\":{\"training\":\"/opt/ml/input/data/training\",\"validation\":\"/opt/ml/input/data/validation\"},\"current_host\":\"algo-1\",\"framework_module\":\"sagemaker_tensorflow_container.training:main\",\"hosts\":[\"algo-1\"],\"hyperparameters\":{\"batch-size\":32,\"epochs\":10,\"learning-rate\":0.001,\"model_dir\":\"s3://sagemaker-us-east-1-358472144000/sagemaker-tensorflow-scriptmode-2021-07-07-16-09-55-198/model\"},\"input_config_dir\":\"/opt/ml/input/config\",\"input_data_config\":{\"training\":{\"RecordWrapperType\":\"None\",\"S3DistributionType\":\"FullyReplicated\",\"TrainingInputMode\":\"File\"},\"validation\":{\"RecordWrapperType\":\"None\",\"S3DistributionType\":\"FullyReplicated\",\"TrainingInputMode\":\"File\"}},\"input_dir\":\"/opt/ml/input\",\"is_master\":true,\"job_name\":\"sagemaker-tensorflow-scriptmode-2021-07-07-16-09-55-198\",\"log_level\":20,\"master_hostname\":\"algo-1\",\"model_dir\":\"/opt/ml/model\",\"module_dir\":\"s3://sagemaker-us-east-1-358472144000/sagemaker-tensorflow-scriptmode-2021-07-07-16-09-55-198/source/sourcedir.tar.gz\",\"module_name\":\"mnist-train-cnn\",\"network_interface_name\":\"eth0\",\"num_cpus\":8,\"num_gpus\":0,\"output_data_dir\":\"/opt/ml/output/data\",\"output_dir\":\"/opt/ml/output\",\"output_intermediate_dir\":\"/opt/ml/output/intermediate\",\"resource_config\":{\"current_host\":\"algo-1\",\"hosts\":[\"algo-1\"],\"network_interface_name\":\"eth0\"},\"user_entry_point\":\"mnist-train-cnn.py\"}\u001b[0m\n",
      "\u001b[34mSM_USER_ARGS=[\"--batch-size\",\"32\",\"--epochs\",\"10\",\"--learning-rate\",\"0.001\",\"--model_dir\",\"s3://sagemaker-us-east-1-358472144000/sagemaker-tensorflow-scriptmode-2021-07-07-16-09-55-198/model\"]\u001b[0m\n",
      "\u001b[34mSM_OUTPUT_INTERMEDIATE_DIR=/opt/ml/output/intermediate\u001b[0m\n",
      "\u001b[34mSM_CHANNEL_TRAINING=/opt/ml/input/data/training\u001b[0m\n",
      "\u001b[34mSM_CHANNEL_VALIDATION=/opt/ml/input/data/validation\u001b[0m\n",
      "\u001b[34mSM_HP_BATCH-SIZE=32\u001b[0m\n",
      "\u001b[34mSM_HP_LEARNING-RATE=0.001\u001b[0m\n",
      "\u001b[34mSM_HP_MODEL_DIR=s3://sagemaker-us-east-1-358472144000/sagemaker-tensorflow-scriptmode-2021-07-07-16-09-55-198/model\u001b[0m\n",
      "\u001b[34mSM_HP_EPOCHS=10\u001b[0m\n",
      "\u001b[34mPYTHONPATH=/opt/ml/code:/usr/local/bin:/usr/lib/python36.zip:/usr/lib/python3.6:/usr/lib/python3.6/lib-dynload:/usr/local/lib/python3.6/dist-packages:/usr/lib/python3/dist-packages\n",
      "\u001b[0m\n",
      "\u001b[34mInvoking script with the following command:\n",
      "\u001b[0m\n",
      "\u001b[34m/usr/bin/python mnist-train-cnn.py --batch-size 32 --epochs 10 --learning-rate 0.001 --model_dir s3://sagemaker-us-east-1-358472144000/sagemaker-tensorflow-scriptmode-2021-07-07-16-09-55-198/model\n",
      "\n",
      "\u001b[0m\n",
      "\u001b[34m_________________________________________________________________\u001b[0m\n",
      "\u001b[34mLayer (type)                 Output Shape              Param #   \u001b[0m\n",
      "\u001b[34m=================================================================\u001b[0m\n",
      "\u001b[34mconv2d (Conv2D)              (None, 26, 26, 32)        320       \u001b[0m\n",
      "\u001b[34m_________________________________________________________________\u001b[0m\n",
      "\u001b[34mconv2d_1 (Conv2D)            (None, 24, 24, 64)        18496     \u001b[0m\n",
      "\u001b[34m_________________________________________________________________\u001b[0m\n",
      "\u001b[34mmax_pooling2d (MaxPooling2D) (None, 12, 12, 64)        0         \u001b[0m\n",
      "\u001b[34m_________________________________________________________________\u001b[0m\n",
      "\u001b[34mdropout (Dropout)            (None, 12, 12, 64)        0         \u001b[0m\n",
      "\u001b[34m_________________________________________________________________\u001b[0m\n",
      "\u001b[34mflatten (Flatten)            (None, 9216)              0         \u001b[0m\n",
      "\u001b[34m_________________________________________________________________\u001b[0m\n",
      "\u001b[34mdense (Dense)                (None, 128)               1179776   \u001b[0m\n",
      "\u001b[34m_________________________________________________________________\u001b[0m\n",
      "\u001b[34mdropout_1 (Dropout)          (None, 128)               0         \u001b[0m\n",
      "\u001b[34m_________________________________________________________________\u001b[0m\n",
      "\u001b[34mdense_1 (Dense)              (None, 10)                1290      \u001b[0m\n",
      "\u001b[34m=================================================================\u001b[0m\n",
      "\u001b[34mTotal params: 1,199,882\u001b[0m\n",
      "\u001b[34mTrainable params: 1,199,882\u001b[0m\n",
      "\u001b[34mNon-trainable params: 0\u001b[0m\n",
      "\u001b[34m_________________________________________________________________\u001b[0m\n",
      "\u001b[34mNone\u001b[0m\n",
      "\u001b[34mTrain on 60000 samples, validate on 10000 samples\u001b[0m\n",
      "\u001b[34mEpoch 1/10\u001b[0m\n",
      "\n",
      "2021-07-07 16:13:20 Training - Training image download completed. Training in progress.\u001b[34m - 36s - loss: 0.1977 - acc: 0.9411 - val_loss: 0.0478 - val_acc: 0.9845\u001b[0m\n",
      "\u001b[34mEpoch 2/10\u001b[0m\n",
      "\u001b[34m - 35s - loss: 0.0817 - acc: 0.9754 - val_loss: 0.0332 - val_acc: 0.9896\u001b[0m\n",
      "\u001b[34mEpoch 3/10\u001b[0m\n",
      "\u001b[34m - 33s - loss: 0.0617 - acc: 0.9811 - val_loss: 0.0330 - val_acc: 0.9892\u001b[0m\n",
      "\u001b[34mEpoch 4/10\u001b[0m\n",
      "\u001b[34m - 35s - loss: 0.0498 - acc: 0.9853 - val_loss: 0.0291 - val_acc: 0.9907\u001b[0m\n",
      "\u001b[34mEpoch 5/10\u001b[0m\n",
      "\u001b[34m - 33s - loss: 0.0430 - acc: 0.9867 - val_loss: 0.0264 - val_acc: 0.9918\u001b[0m\n",
      "\u001b[34mEpoch 6/10\u001b[0m\n",
      "\u001b[34m - 35s - loss: 0.0388 - acc: 0.9880 - val_loss: 0.0335 - val_acc: 0.9911\u001b[0m\n",
      "\u001b[34mEpoch 7/10\u001b[0m\n",
      "\u001b[34m - 33s - loss: 0.0328 - acc: 0.9893 - val_loss: 0.0341 - val_acc: 0.9910\u001b[0m\n",
      "\u001b[34mEpoch 8/10\u001b[0m\n",
      "\u001b[34m - 34s - loss: 0.0298 - acc: 0.9903 - val_loss: 0.0358 - val_acc: 0.9907\u001b[0m\n",
      "\u001b[34mEpoch 9/10\u001b[0m\n",
      "\u001b[34m - 35s - loss: 0.0263 - acc: 0.9921 - val_loss: 0.0342 - val_acc: 0.9910\u001b[0m\n",
      "\u001b[34mEpoch 10/10\u001b[0m\n",
      "\u001b[34m - 33s - loss: 0.0236 - acc: 0.9925 - val_loss: 0.0272 - val_acc: 0.9928\u001b[0m\n",
      "\u001b[34mValidation loss    : 0.02723315719301045\u001b[0m\n",
      "\u001b[34mValidation accuracy: 0.9928\u001b[0m\n",
      "\u001b[34mWARNING:tensorflow:From /usr/local/lib/python3.6/dist-packages/tensorflow/python/saved_model/simple_save.py:85: calling SavedModelBuilder.add_meta_graph_and_variables (from tensorflow.python.saved_model.builder_impl) with legacy_init_op is deprecated and will be removed in a future version.\u001b[0m\n",
      "\u001b[34mInstructions for updating:\u001b[0m\n",
      "\u001b[34mPass your op to the equivalent parameter main_op instead.\u001b[0m\n",
      "\u001b[34m2021-07-07 16:18:44,737 sagemaker-containers INFO     Reporting training SUCCESS\u001b[0m\n",
      "\n",
      "2021-07-07 16:19:02 Uploading - Uploading generated training model\n",
      "2021-07-07 16:19:02 Completed - Training job completed\n",
      "Training seconds: 378\n",
      "Billable seconds: 378\n"
     ]
    }
   ],
   "source": [
    "tf_estimator.fit({'training': training_input_path, 'validation': validation_input_path})"
   ]
  },
  {
   "cell_type": "markdown",
   "metadata": {},
   "source": [
    "## Implante o modelo\n",
    "Para manter os custos baixos, podemos implantar nosso modelo em uma instância menor para fazer inferências. Você também pode usar instâncias de GPU, que seriam mais rápidas, mas com custo mais alto. Observe que também estamos usando um acelerador de inferência elástica aqui."
   ]
  },
  {
   "cell_type": "code",
   "execution_count": 12,
   "metadata": {},
   "outputs": [
    {
     "name": "stderr",
     "output_type": "stream",
     "text": [
      "update_endpoint is a no-op in sagemaker>=2.\n",
      "See: https://sagemaker.readthedocs.io/en/stable/v2.html for details.\n"
     ]
    },
    {
     "name": "stdout",
     "output_type": "stream",
     "text": [
      "-----------!"
     ]
    }
   ],
   "source": [
    "import time\n",
    "\n",
    "tf_endpoint_name = 'keras-tf-mnist-'+time.strftime(\"%Y-%m-%d-%H-%M-%S\", time.gmtime())\n",
    "\n",
    "tf_predictor = tf_estimator.deploy(initial_instance_count=1,\n",
    "                         instance_type='ml.c5.large',        \n",
    "                         #accelerator_type='ml.eia1.medium',  \n",
    "                         endpoint_name=tf_endpoint_name)     "
   ]
  },
  {
   "cell_type": "markdown",
   "metadata": {},
   "source": [
    "## Faça previsões com o modelo implantado\n",
    "5 imagens"
   ]
  },
  {
   "cell_type": "code",
   "execution_count": 15,
   "metadata": {},
   "outputs": [
    {
     "name": "stdout",
     "output_type": "stream",
     "text": [
      "Predicted labels are: [9 1 0 2 8]\n"
     ]
    },
    {
     "data": {
      "image/png": "[encoded data removed]",
      "text/plain": [
       "<Figure size 432x288 with 5 Axes>"
      ]
     },
     "metadata": {
      "needs_background": "light"
     },
     "output_type": "display_data"
    }
   ],
   "source": [
    "%matplotlib inline\n",
    "import random\n",
    "import matplotlib.pyplot as plt\n",
    "\n",
    "num_samples = 5\n",
    "indices = random.sample(range(x_val.shape[0] - 1), num_samples)\n",
    "images = x_val[indices]/255\n",
    "labels = y_val[indices]\n",
    "\n",
    "for i in range(num_samples):\n",
    "    plt.subplot(1,num_samples,i+1)\n",
    "    plt.imshow(images[i].reshape(28, 28), cmap='gray')\n",
    "    plt.title(labels[i])\n",
    "    plt.axis('off')\n",
    "    \n",
    "prediction = tf_predictor.predict(images.reshape(num_samples, 28, 28, 1))['predictions']\n",
    "prediction = np.array(prediction)\n",
    "predicted_label = prediction.argmax(axis=1)\n",
    "print('Predicted labels are: {}'.format(predicted_label))"
   ]
  },
  {
   "cell_type": "markdown",
   "metadata": {},
   "source": [
    "## Limpe o endpoint de implantação"
   ]
  },
  {
   "cell_type": "code",
   "execution_count": 16,
   "metadata": {},
   "outputs": [],
   "source": [
    "sess.delete_endpoint(endpoint_name=tf_endpoint_name)"
   ]
  },
  {
   "cell_type": "markdown",
   "metadata": {},
   "source": [
    "## Encontre os melhores hiperparâmetros com o ajuste automático de modelo\n",
    "Esta é de longe a parte mais cara deste exercício; vamos usar uma boa quantidade de tempo em instâncias P3 aqui. Se você está preocupado com seus custos de AWS, pule o resto deste notebook e apenas desligue sua instância de notebook SageMaker agora."
   ]
  },
  {
   "cell_type": "code",
   "execution_count": 17,
   "metadata": {},
   "outputs": [],
   "source": [
    "tf_estimator = TensorFlow(entry_point='mnist-train-cnn.py', \n",
    "                          role=role,\n",
    "                          instance_count=1, \n",
    "                          instance_type='ml.c5.2xlarge',\n",
    "                          #instance_type='ml.p3.2xlarge',\n",
    "                          framework_version='1.12', \n",
    "                          py_version='py3',\n",
    "                          script_mode=True\n",
    "                         )"
   ]
  },
  {
   "cell_type": "code",
   "execution_count": 18,
   "metadata": {},
   "outputs": [],
   "source": [
    "from sagemaker.tuner import IntegerParameter, CategoricalParameter, ContinuousParameter, HyperparameterTuner\n",
    "\n",
    "hyperparameter_ranges = {\n",
    "    'epochs':        IntegerParameter(5, 20),\n",
    "    'learning-rate': ContinuousParameter(0.0001, 0.1, scaling_type='Logarithmic'), \n",
    "    'batch-size':    IntegerParameter(32, 1024),\n",
    "}\n",
    "\n",
    "objective_metric_name = 'val_acc'\n",
    "objective_type = 'Maximize'\n",
    "metric_definitions = [{'Name': 'val_acc', 'Regex': 'val_acc: ([0-9\\\\.]+)'}]\n",
    "\n",
    "#máximo de 10 jobs\n",
    "#máximo 2 paralelos\n",
    "tuner = HyperparameterTuner(tf_estimator,\n",
    "                            objective_metric_name,\n",
    "                            hyperparameter_ranges,\n",
    "                            metric_definitions,\n",
    "                            max_jobs=10,\n",
    "                            max_parallel_jobs=2,\n",
    "                            objective_type=objective_type)"
   ]
  },
  {
   "cell_type": "code",
   "execution_count": 19,
   "metadata": {},
   "outputs": [
    {
     "name": "stdout",
     "output_type": "stream",
     "text": [
      "............................................................................................................................................................................................................................................................................................................................................................................................................................................................................................................................................!\n"
     ]
    }
   ],
   "source": [
    "#podemos ver a execução em  hyperparameter tunning jobs\n",
    "tuner.fit({'training': training_input_path, 'validation': validation_input_path})"
   ]
  },
  {
   "cell_type": "markdown",
   "metadata": {},
   "source": [
    "## Implante o melhor modelo"
   ]
  },
  {
   "cell_type": "code",
   "execution_count": 20,
   "metadata": {},
   "outputs": [
    {
     "name": "stdout",
     "output_type": "stream",
     "text": [
      "\n",
      "2021-07-07 17:13:24 Starting - Preparing the instances for training\n",
      "2021-07-07 17:13:24 Downloading - Downloading input data\n",
      "2021-07-07 17:13:24 Training - Training image download completed. Training in progress.\n",
      "2021-07-07 17:13:24 Uploading - Uploading generated training model\n",
      "2021-07-07 17:13:24 Completed - Training job completed"
     ]
    },
    {
     "name": "stderr",
     "output_type": "stream",
     "text": [
      "update_endpoint is a no-op in sagemaker>=2.\n",
      "See: https://sagemaker.readthedocs.io/en/stable/v2.html for details.\n"
     ]
    },
    {
     "name": "stdout",
     "output_type": "stream",
     "text": [
      "\n",
      "---------------!"
     ]
    }
   ],
   "source": [
    "import time\n",
    "\n",
    "tf_endpoint_name = 'keras-tf-mnist-'+time.strftime(\"%Y-%m-%d-%H-%M-%S\", time.gmtime())\n",
    "\n",
    "tf_predictor = tuner.deploy(initial_instance_count=1,\n",
    "                         instance_type='ml.c5.2xlarge',       \n",
    "                         #accelerator_type='ml.eia1.medium',\n",
    "                         endpoint_name=tf_endpoint_name)"
   ]
  },
  {
   "cell_type": "markdown",
   "metadata": {},
   "source": [
    "## Preveja novamente"
   ]
  },
  {
   "cell_type": "code",
   "execution_count": 22,
   "metadata": {},
   "outputs": [
    {
     "name": "stdout",
     "output_type": "stream",
     "text": [
      "Predicted labels are: [0 3 0 8 7]\n"
     ]
    },
    {
     "data": {
      "image/png": "[encoded data removed]",
      "text/plain": [
       "<Figure size 432x288 with 5 Axes>"
      ]
     },
     "metadata": {
      "needs_background": "light"
     },
     "output_type": "display_data"
    }
   ],
   "source": [
    "%matplotlib inline\n",
    "import random\n",
    "import matplotlib.pyplot as plt\n",
    "\n",
    "num_samples = 5\n",
    "indices = random.sample(range(x_val.shape[0] - 1), num_samples)\n",
    "images = x_val[indices]/255\n",
    "labels = y_val[indices]\n",
    "\n",
    "for i in range(num_samples):\n",
    "    plt.subplot(1,num_samples,i+1)\n",
    "    plt.imshow(images[i].reshape(28, 28), cmap='gray')\n",
    "    plt.title(labels[i])\n",
    "    plt.axis('off')\n",
    "    \n",
    "prediction = tf_predictor.predict(images.reshape(num_samples, 28, 28, 1))['predictions']\n",
    "prediction = np.array(prediction)\n",
    "predicted_label = prediction.argmax(axis=1)\n",
    "print('Predicted labels are: {}'.format(predicted_label))"
   ]
  },
  {
   "cell_type": "markdown",
   "metadata": {},
   "source": [
    "## Limpar"
   ]
  },
  {
   "cell_type": "code",
   "execution_count": 23,
   "metadata": {},
   "outputs": [],
   "source": [
    "sess.delete_endpoint(endpoint_name=tf_endpoint_name)"
   ]
  },
  {
   "cell_type": "markdown",
   "metadata": {},
   "source": [
    "## Lembre-se de desligar a instância do seu notebook também!"
   ]
  },
  {
   "cell_type": "code",
   "execution_count": null,
   "metadata": {},
   "outputs": [],
   "source": []
  }
 ],
 "metadata": {
  "kernelspec": {
   "display_name": "conda_tensorflow_p36",
   "language": "python",
   "name": "conda_tensorflow_p36"
  },
  "language_info": {
   "codemirror_mode": {
    "name": "ipython",
    "version": 3
   },
   "file_extension": ".py",
   "mimetype": "text/x-python",
   "name": "python",
   "nbconvert_exporter": "python",
   "pygments_lexer": "ipython3",
   "version": "3.6.13"
  }
 },
 "nbformat": 4,
 "nbformat_minor": 4
}
