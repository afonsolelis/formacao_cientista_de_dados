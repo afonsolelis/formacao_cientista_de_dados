{
 "cells": [
  {
   "cell_type": "markdown",
   "metadata": {},
   "source": [
    "Formação Cientista de Dados II - Professor Fernando Amaral\n",
    "Clusters: Técnicas Avançadas"
   ]
  },
  {
   "cell_type": "code",
   "execution_count": null,
   "metadata": {},
   "outputs": [],
   "source": [
    "from sklearn import datasets\n",
    "import numpy as np\n",
    "import matplotlib.pyplot as plt\n",
    "from sklearn.cluster import KMeans\n",
    "from sklearn.preprocessing import scale\n",
    "from pyclustertend import hopkins, vat,ivat, assess_tendency_by_metric, assess_tendency_by_mean_metric_score"
   ]
  },
  {
   "cell_type": "code",
   "execution_count": null,
   "metadata": {},
   "outputs": [],
   "source": [
    "#cluster com iris\n",
    "iris = datasets.load_iris()\n",
    "cluster = KMeans(n_clusters = 3)\n",
    "clus = cluster.fit_predict(iris.data)\n",
    "print(clus)"
   ]
  },
  {
   "cell_type": "code",
   "execution_count": null,
   "metadata": {},
   "outputs": [],
   "source": [
    "#impressão do cluster\n",
    "plt.title('Iris')\n",
    "plt.scatter(iris.data[:,0], iris.data[:,1], c = clus, cmap=\"rainbow\")\n",
    "plt.show()"
   ]
  },
  {
   "cell_type": "code",
   "execution_count": null,
   "metadata": {},
   "outputs": [],
   "source": [
    "#criamos dois objetos para clusterização\n",
    "clust1 = scale(iris.data)\n",
    "#mesmas dimensões de Iris\n",
    "clust2 = np.random.rand(150,4)\n",
    "print(clust2)"
   ]
  },
  {
   "cell_type": "code",
   "execution_count": null,
   "metadata": {},
   "outputs": [],
   "source": [
    "# within-cluster sum-of-squares pode ser encontrado no atributo inertia do cluster\n",
    "inertia =[]\n",
    "for i in range(1, 8):\n",
    "    kmeans = KMeans(n_clusters = i).fit(clust1)\n",
    "    kmeans.fit(clust1)\n",
    "    inertia.append(kmeans.inertia_)\n",
    "plt.plot(range(1, 8), inertia)\n",
    "plt.title('Elbow')\n",
    "plt.show()"
   ]
  },
  {
   "cell_type": "code",
   "execution_count": null,
   "metadata": {},
   "outputs": [],
   "source": [
    "#caapcidade de cluster\n",
    "#mais proximo de zero maior capacidade\n",
    "hopkins(clust1,150)"
   ]
  },
  {
   "cell_type": "code",
   "execution_count": null,
   "metadata": {},
   "outputs": [],
   "source": [
    "hopkins(clust2,150)"
   ]
  },
  {
   "cell_type": "code",
   "execution_count": null,
   "metadata": {},
   "outputs": [],
   "source": [
    "#Visual assesement of tendency\n",
    "vat(clust1)"
   ]
  },
  {
   "cell_type": "code",
   "execution_count": null,
   "metadata": {},
   "outputs": [],
   "source": [
    "vat(clust2)"
   ]
  },
  {
   "cell_type": "code",
   "execution_count": null,
   "metadata": {},
   "outputs": [],
   "source": [
    "#outra versão\n",
    "ivat(clust1)  "
   ]
  },
  {
   "cell_type": "code",
   "execution_count": null,
   "metadata": {},
   "outputs": [],
   "source": [
    "ivat(clust2)  "
   ]
  },
  {
   "cell_type": "code",
   "execution_count": null,
   "metadata": {},
   "outputs": [],
   "source": [
    "# avalia a qualidade dos dados \n",
    "#métodos  'silhouette', 'calinski_harabasz', 'davies_bouldin'    \n",
    "#dados, método, número máximo de clusters\n",
    "#retona o número ideial de cluster a valor de silhouette para cada um\n",
    "#silhouette busca minimizar\n",
    "m = assess_tendency_by_metric(clust1,'silhouette',5 )\n",
    "print(m)"
   ]
  },
  {
   "cell_type": "code",
   "execution_count": null,
   "metadata": {},
   "outputs": [],
   "source": [
    "m = assess_tendency_by_metric(clust2,'silhouette',5 )\n",
    "print(m)"
   ]
  },
  {
   "cell_type": "code",
   "execution_count": null,
   "metadata": {},
   "outputs": [],
   "source": [
    "#retorna o número médio do melhor número de clusters dos três métodos\n",
    "m = assess_tendency_by_mean_metric_score(clust1,5 )\n",
    "print(m)"
   ]
  },
  {
   "cell_type": "code",
   "execution_count": null,
   "metadata": {},
   "outputs": [],
   "source": [
    "m = assess_tendency_by_mean_metric_score(clust2,5 )\n",
    "print(m)\n"
   ]
  },
  {
   "cell_type": "code",
   "execution_count": null,
   "metadata": {},
   "outputs": [],
   "source": []
  }
 ],
 "metadata": {
  "kernelspec": {
   "display_name": "Python 3",
   "language": "python",
   "name": "python3"
  },
  "language_info": {
   "codemirror_mode": {
    "name": "ipython",
    "version": 3
   },
   "file_extension": ".py",
   "mimetype": "text/x-python",
   "name": "python",
   "nbconvert_exporter": "python",
   "pygments_lexer": "ipython3",
   "version": "3.7.6"
  }
 },
 "nbformat": 4,
 "nbformat_minor": 4
}
