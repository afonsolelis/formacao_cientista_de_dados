{
 "cells": [
  {
   "cell_type": "markdown",
   "metadata": {},
   "source": [
    "Formação Cientista de Dados II - Professor Fernando Amaral\n",
    "Auto ML"
   ]
  },
  {
   "cell_type": "code",
   "execution_count": null,
   "metadata": {},
   "outputs": [],
   "source": [
    "import h2o\n",
    "from h2o.automl import H2OAutoML\n",
    "from h2o.estimators import H2ORandomForestEstimator\n",
    "import pandas as pd"
   ]
  },
  {
   "cell_type": "code",
   "execution_count": null,
   "metadata": {},
   "outputs": [],
   "source": [
    "h2o.init()"
   ]
  },
  {
   "cell_type": "code",
   "execution_count": null,
   "metadata": {},
   "outputs": [],
   "source": [
    "#Importa dados \n",
    "imp = pd.read_csv('Churn_treino.csv', sep=\";\")\n",
    "imp.head()"
   ]
  },
  {
   "cell_type": "code",
   "execution_count": null,
   "metadata": {},
   "outputs": [],
   "source": [
    "# divide em treino e teste\n",
    "imp = h2o.H2OFrame(imp)\n",
    "treino,teste = imp.split_frame(ratios=[.7])"
   ]
  },
  {
   "cell_type": "code",
   "execution_count": null,
   "metadata": {},
   "outputs": [],
   "source": [
    "#Transforma a variável dependente em fator\n",
    "treino[\"Exited\"] = treino[\"Exited\"].asfactor()\n",
    "teste[\"Exited\"] = teste[\"Exited\"].asfactor()"
   ]
  },
  {
   "cell_type": "code",
   "execution_count": null,
   "metadata": {},
   "outputs": [],
   "source": [
    "#Auto ML\n",
    "#Busca o modelo por 180 segundos, podemos em vez disso definir max_models\n",
    "modelo_automl = H2OAutoML(max_runtime_secs=180, sort_metric = 'AUC')\n",
    "modelo_automl.train( y=\"Exited\", training_frame=treino)"
   ]
  },
  {
   "cell_type": "code",
   "execution_count": null,
   "metadata": {},
   "outputs": [],
   "source": [
    "#Random Forest\n",
    "model_floresta = H2ORandomForestEstimator(nfolds=5)\n",
    "model_floresta.train( y=\"Exited\", training_frame=treino)"
   ]
  },
  {
   "cell_type": "code",
   "execution_count": null,
   "metadata": {},
   "outputs": [],
   "source": [
    "#Ranking dos melhores AutoML\n",
    "ranking = modelo_automl.leaderboard\n",
    "ranking = ranking.as_data_frame()\n",
    "ranking"
   ]
  },
  {
   "cell_type": "code",
   "execution_count": null,
   "metadata": {},
   "outputs": [],
   "source": [
    "performance = model_floresta.model_performance(test_data=teste)\n",
    "performance"
   ]
  },
  {
   "cell_type": "code",
   "execution_count": null,
   "metadata": {},
   "outputs": [],
   "source": [
    "#Prever \n",
    "teste = pd.read_csv('Churn_prever.csv', sep=\";\")\n",
    "teste = h2o.H2OFrame(teste)\n",
    "prever = modelo_automl.leader.predict(teste)\n",
    "prever"
   ]
  },
  {
   "cell_type": "code",
   "execution_count": null,
   "metadata": {},
   "outputs": [],
   "source": []
  }
 ],
 "metadata": {
  "kernelspec": {
   "display_name": "Python 3",
   "language": "python",
   "name": "python3"
  },
  "language_info": {
   "codemirror_mode": {
    "name": "ipython",
    "version": 3
   },
   "file_extension": ".py",
   "mimetype": "text/x-python",
   "name": "python",
   "nbconvert_exporter": "python",
   "pygments_lexer": "ipython3",
   "version": "3.7.6"
  }
 },
 "nbformat": 4,
 "nbformat_minor": 4
}
