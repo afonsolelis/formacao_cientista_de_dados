{
 "cells": [
  {
   "cell_type": "code",
   "execution_count": 18,
   "metadata": {},
   "outputs": [],
   "source": [
    "#pip install scikit-multilearn\n",
    "#algoritmos adaptados\n",
    "# Knn e Hierarquical ARAM NN\n",
    "from skmultilearn.adapt import MLkNN, MLARAM\n",
    "#transformação de problemas\n",
    "from skmultilearn.problem_transform import BinaryRelevance, ClassifierChain, LabelPowerset\n",
    "from sklearn.svm import SVC\n",
    "from sklearn.model_selection import train_test_split\n",
    "from sklearn.metrics import hamming_loss\n",
    "import pandas as pd"
   ]
  },
  {
   "cell_type": "code",
   "execution_count": 19,
   "metadata": {},
   "outputs": [
    {
     "data": {
      "text/plain": [
       "(592, 77)"
      ]
     },
     "execution_count": 19,
     "metadata": {},
     "output_type": "execute_result"
    }
   ],
   "source": [
    "musica = pd.read_csv('Musica.csv', sep=\",\")\n",
    "musica.shape"
   ]
  },
  {
   "cell_type": "code",
   "execution_count": 20,
   "metadata": {},
   "outputs": [
    {
     "data": {
      "text/html": [
       "<div>\n",
       "<style scoped>\n",
       "    .dataframe tbody tr th:only-of-type {\n",
       "        vertical-align: middle;\n",
       "    }\n",
       "\n",
       "    .dataframe tbody tr th {\n",
       "        vertical-align: top;\n",
       "    }\n",
       "\n",
       "    .dataframe thead th {\n",
       "        text-align: right;\n",
       "    }\n",
       "</style>\n",
       "<table border=\"1\" class=\"dataframe\">\n",
       "  <thead>\n",
       "    <tr style=\"text-align: right;\">\n",
       "      <th></th>\n",
       "      <th>amazed-suprised</th>\n",
       "      <th>happy-pleased</th>\n",
       "      <th>relaxing-clam</th>\n",
       "      <th>quiet-still</th>\n",
       "      <th>sad-lonely</th>\n",
       "      <th>angry-aggresive</th>\n",
       "      <th>Mean_Acc1298_Mean_Mem40_Centroid</th>\n",
       "      <th>Mean_Acc1298_Mean_Mem40_Rolloff</th>\n",
       "      <th>Mean_Acc1298_Mean_Mem40_Flux</th>\n",
       "      <th>Mean_Acc1298_Mean_Mem40_MFCC_0</th>\n",
       "      <th>...</th>\n",
       "      <th>Std_Acc1298_Std_Mem40_MFCC_10</th>\n",
       "      <th>Std_Acc1298_Std_Mem40_MFCC_11</th>\n",
       "      <th>Std_Acc1298_Std_Mem40_MFCC_12</th>\n",
       "      <th>BH_LowPeakAmp</th>\n",
       "      <th>BH_LowPeakBPM</th>\n",
       "      <th>BH_HighPeakAmp</th>\n",
       "      <th>BH_HighPeakBPM</th>\n",
       "      <th>BHSUM1</th>\n",
       "      <th>BHSUM2</th>\n",
       "      <th>BHSUM3</th>\n",
       "    </tr>\n",
       "  </thead>\n",
       "  <tbody>\n",
       "    <tr>\n",
       "      <th>0</th>\n",
       "      <td>0</td>\n",
       "      <td>1</td>\n",
       "      <td>1</td>\n",
       "      <td>0</td>\n",
       "      <td>0</td>\n",
       "      <td>0</td>\n",
       "      <td>0.132498</td>\n",
       "      <td>0.077848</td>\n",
       "      <td>0.229227</td>\n",
       "      <td>0.602629</td>\n",
       "      <td>...</td>\n",
       "      <td>0.197026</td>\n",
       "      <td>0.196244</td>\n",
       "      <td>0.164323</td>\n",
       "      <td>0.030017</td>\n",
       "      <td>0.253968</td>\n",
       "      <td>0.008473</td>\n",
       "      <td>0.240602</td>\n",
       "      <td>0.136735</td>\n",
       "      <td>0.058442</td>\n",
       "      <td>0.107594</td>\n",
       "    </tr>\n",
       "    <tr>\n",
       "      <th>1</th>\n",
       "      <td>1</td>\n",
       "      <td>0</td>\n",
       "      <td>0</td>\n",
       "      <td>0</td>\n",
       "      <td>0</td>\n",
       "      <td>1</td>\n",
       "      <td>0.384281</td>\n",
       "      <td>0.355249</td>\n",
       "      <td>0.167190</td>\n",
       "      <td>0.853089</td>\n",
       "      <td>...</td>\n",
       "      <td>0.093526</td>\n",
       "      <td>0.085649</td>\n",
       "      <td>0.025101</td>\n",
       "      <td>0.182955</td>\n",
       "      <td>0.285714</td>\n",
       "      <td>0.156764</td>\n",
       "      <td>0.270677</td>\n",
       "      <td>0.191377</td>\n",
       "      <td>0.153728</td>\n",
       "      <td>0.197951</td>\n",
       "    </tr>\n",
       "    <tr>\n",
       "      <th>2</th>\n",
       "      <td>0</td>\n",
       "      <td>1</td>\n",
       "      <td>0</td>\n",
       "      <td>0</td>\n",
       "      <td>0</td>\n",
       "      <td>1</td>\n",
       "      <td>0.541782</td>\n",
       "      <td>0.356491</td>\n",
       "      <td>0.152246</td>\n",
       "      <td>0.791142</td>\n",
       "      <td>...</td>\n",
       "      <td>0.198082</td>\n",
       "      <td>0.108067</td>\n",
       "      <td>0.140574</td>\n",
       "      <td>0.099303</td>\n",
       "      <td>0.142857</td>\n",
       "      <td>0.000000</td>\n",
       "      <td>0.593985</td>\n",
       "      <td>0.105114</td>\n",
       "      <td>0.025555</td>\n",
       "      <td>0.122965</td>\n",
       "    </tr>\n",
       "    <tr>\n",
       "      <th>3</th>\n",
       "      <td>0</td>\n",
       "      <td>0</td>\n",
       "      <td>1</td>\n",
       "      <td>0</td>\n",
       "      <td>0</td>\n",
       "      <td>0</td>\n",
       "      <td>0.174288</td>\n",
       "      <td>0.243935</td>\n",
       "      <td>0.254326</td>\n",
       "      <td>0.438987</td>\n",
       "      <td>...</td>\n",
       "      <td>0.235793</td>\n",
       "      <td>0.220195</td>\n",
       "      <td>0.235834</td>\n",
       "      <td>0.024988</td>\n",
       "      <td>0.222222</td>\n",
       "      <td>0.117169</td>\n",
       "      <td>0.210526</td>\n",
       "      <td>0.057288</td>\n",
       "      <td>0.134575</td>\n",
       "      <td>0.091509</td>\n",
       "    </tr>\n",
       "    <tr>\n",
       "      <th>4</th>\n",
       "      <td>0</td>\n",
       "      <td>0</td>\n",
       "      <td>0</td>\n",
       "      <td>1</td>\n",
       "      <td>0</td>\n",
       "      <td>0</td>\n",
       "      <td>0.347436</td>\n",
       "      <td>0.155448</td>\n",
       "      <td>0.100047</td>\n",
       "      <td>0.126026</td>\n",
       "      <td>...</td>\n",
       "      <td>0.715683</td>\n",
       "      <td>0.573359</td>\n",
       "      <td>0.412368</td>\n",
       "      <td>0.016398</td>\n",
       "      <td>0.761905</td>\n",
       "      <td>0.081703</td>\n",
       "      <td>0.721805</td>\n",
       "      <td>0.108737</td>\n",
       "      <td>0.172882</td>\n",
       "      <td>0.189934</td>\n",
       "    </tr>\n",
       "  </tbody>\n",
       "</table>\n",
       "<p>5 rows × 77 columns</p>\n",
       "</div>"
      ],
      "text/plain": [
       "   amazed-suprised  happy-pleased  relaxing-clam  quiet-still  sad-lonely  \\\n",
       "0                0              1              1            0           0   \n",
       "1                1              0              0            0           0   \n",
       "2                0              1              0            0           0   \n",
       "3                0              0              1            0           0   \n",
       "4                0              0              0            1           0   \n",
       "\n",
       "   angry-aggresive  Mean_Acc1298_Mean_Mem40_Centroid  \\\n",
       "0                0                          0.132498   \n",
       "1                1                          0.384281   \n",
       "2                1                          0.541782   \n",
       "3                0                          0.174288   \n",
       "4                0                          0.347436   \n",
       "\n",
       "   Mean_Acc1298_Mean_Mem40_Rolloff  Mean_Acc1298_Mean_Mem40_Flux  \\\n",
       "0                         0.077848                      0.229227   \n",
       "1                         0.355249                      0.167190   \n",
       "2                         0.356491                      0.152246   \n",
       "3                         0.243935                      0.254326   \n",
       "4                         0.155448                      0.100047   \n",
       "\n",
       "   Mean_Acc1298_Mean_Mem40_MFCC_0  ...  Std_Acc1298_Std_Mem40_MFCC_10  \\\n",
       "0                        0.602629  ...                       0.197026   \n",
       "1                        0.853089  ...                       0.093526   \n",
       "2                        0.791142  ...                       0.198082   \n",
       "3                        0.438987  ...                       0.235793   \n",
       "4                        0.126026  ...                       0.715683   \n",
       "\n",
       "   Std_Acc1298_Std_Mem40_MFCC_11  Std_Acc1298_Std_Mem40_MFCC_12  \\\n",
       "0                       0.196244                       0.164323   \n",
       "1                       0.085649                       0.025101   \n",
       "2                       0.108067                       0.140574   \n",
       "3                       0.220195                       0.235834   \n",
       "4                       0.573359                       0.412368   \n",
       "\n",
       "   BH_LowPeakAmp  BH_LowPeakBPM  BH_HighPeakAmp  BH_HighPeakBPM    BHSUM1  \\\n",
       "0       0.030017       0.253968        0.008473        0.240602  0.136735   \n",
       "1       0.182955       0.285714        0.156764        0.270677  0.191377   \n",
       "2       0.099303       0.142857        0.000000        0.593985  0.105114   \n",
       "3       0.024988       0.222222        0.117169        0.210526  0.057288   \n",
       "4       0.016398       0.761905        0.081703        0.721805  0.108737   \n",
       "\n",
       "     BHSUM2    BHSUM3  \n",
       "0  0.058442  0.107594  \n",
       "1  0.153728  0.197951  \n",
       "2  0.025555  0.122965  \n",
       "3  0.134575  0.091509  \n",
       "4  0.172882  0.189934  \n",
       "\n",
       "[5 rows x 77 columns]"
      ]
     },
     "execution_count": 20,
     "metadata": {},
     "output_type": "execute_result"
    }
   ],
   "source": [
    "musica.head()"
   ]
  },
  {
   "cell_type": "code",
   "execution_count": 21,
   "metadata": {},
   "outputs": [
    {
     "data": {
      "text/plain": [
       "array([[0, 1, 1, 0, 0, 0],\n",
       "       [1, 0, 0, 0, 0, 1],\n",
       "       [0, 1, 0, 0, 0, 1],\n",
       "       ...,\n",
       "       [0, 0, 1, 1, 1, 0],\n",
       "       [0, 1, 1, 0, 0, 0],\n",
       "       [0, 1, 0, 0, 0, 0]], dtype=int64)"
      ]
     },
     "execution_count": 21,
     "metadata": {},
     "output_type": "execute_result"
    }
   ],
   "source": [
    "#separação da classe e previsores\n",
    "classe = musica.iloc[:,0:6].values\n",
    "previsores = musica.iloc[:,7:78].values\n",
    "classe"
   ]
  },
  {
   "cell_type": "code",
   "execution_count": 22,
   "metadata": {},
   "outputs": [],
   "source": [
    "#divisão de treino e teste\n",
    "X_treinamento, X_teste, y_treinamento, y_teste = train_test_split(previsores,classe,test_size = 0.3,\n",
    "                                                                  random_state = 0)"
   ]
  },
  {
   "cell_type": "code",
   "execution_count": 23,
   "metadata": {},
   "outputs": [
    {
     "data": {
      "text/plain": [
       "MLkNN(ignore_first_neighbours=0, k=3, s=1.0)"
      ]
     },
     "execution_count": 23,
     "metadata": {},
     "output_type": "execute_result"
    }
   ],
   "source": [
    "#adaptado\n",
    "#vizinho mais próximo para ML\n",
    "vmp = MLkNN(k=3) \n",
    "vmp.fit(X_treinamento, y_treinamento) "
   ]
  },
  {
   "cell_type": "code",
   "execution_count": 24,
   "metadata": {},
   "outputs": [
    {
     "name": "stdout",
     "output_type": "stream",
     "text": [
      "0.23782771535580524\n"
     ]
    }
   ],
   "source": [
    "#previsão com dados de teste\n",
    "previsto = vmp.predict(X_teste) \n",
    "#hamming para avaliar preformance  \n",
    "print(hamming_loss(y_teste, previsto)) "
   ]
  },
  {
   "cell_type": "code",
   "execution_count": 25,
   "metadata": {},
   "outputs": [
    {
     "data": {
      "text/plain": [
       "MLARAM(neurons=[<skmultilearn.adapt.mlaram.Neuron object at 0x0000020683642848>,\n",
       "                <skmultilearn.adapt.mlaram.Neuron object at 0x0000020683642648>,\n",
       "                <skmultilearn.adapt.mlaram.Neuron object at 0x00000206836426C8>,\n",
       "                <skmultilearn.adapt.mlaram.Neuron object at 0x00000206836424C8>,\n",
       "                <skmultilearn.adapt.mlaram.Neuron object at 0x00000206836425C8>,\n",
       "                <skmultilearn.adapt.mlaram.Ne...\n",
       "                <skmultilearn.adapt.mlaram.Neuron object at 0x0000020683642108>,\n",
       "                <skmultilearn.adapt.mlaram.Neuron object at 0x0000020683643808>,\n",
       "                <skmultilearn.adapt.mlaram.Neuron object at 0x0000020683643788>,\n",
       "                <skmultilearn.adapt.mlaram.Neuron object at 0x0000020683643F48>,\n",
       "                <skmultilearn.adapt.mlaram.Neuron object at 0x0000020683643FC8>,\n",
       "                <skmultilearn.adapt.mlaram.Neuron object at 0x0000020683643E48>, ...],\n",
       "       threshold=0.02, vigilance=0.9)"
      ]
     },
     "execution_count": 25,
     "metadata": {},
     "output_type": "execute_result"
    }
   ],
   "source": [
    "#segundo classificador adaptado, Hierarquical ARAM NN\n",
    "ann = MLARAM()\n",
    "ann.fit(X_treinamento, y_treinamento) "
   ]
  },
  {
   "cell_type": "code",
   "execution_count": 26,
   "metadata": {},
   "outputs": [
    {
     "name": "stdout",
     "output_type": "stream",
     "text": [
      "0.24812734082397003\n"
     ]
    }
   ],
   "source": [
    "#previsão com dados de teste\n",
    "previsto = ann.predict(X_teste) \n",
    "#hamming para avaliar preformance  \n",
    "print(hamming_loss(y_teste, previsto)) "
   ]
  },
  {
   "cell_type": "code",
   "execution_count": 27,
   "metadata": {},
   "outputs": [
    {
     "name": "stdout",
     "output_type": "stream",
     "text": [
      "0.199438202247191\n"
     ]
    }
   ],
   "source": [
    "#transformação de problema\n",
    "#binary relevance\n",
    "binary = BinaryRelevance(classifier = SVC())\n",
    "binary.fit(X_treinamento, y_treinamento)\n",
    "previsao = binary.predict(X_teste)\n",
    "print(hamming_loss(y_teste, previsao))"
   ]
  },
  {
   "cell_type": "code",
   "execution_count": 28,
   "metadata": {},
   "outputs": [
    {
     "name": "stdout",
     "output_type": "stream",
     "text": [
      "0.2340823970037453\n"
     ]
    }
   ],
   "source": [
    "#transformação de problema\n",
    "#ClassifierChain\n",
    "chain = ClassifierChain(classifier = SVC())\n",
    "chain.fit(X_treinamento, y_treinamento)\n",
    "previsoes = chain.predict(X_teste)\n",
    "print(hamming_loss(y_teste,previsoes))"
   ]
  },
  {
   "cell_type": "code",
   "execution_count": 29,
   "metadata": {},
   "outputs": [
    {
     "name": "stdout",
     "output_type": "stream",
     "text": [
      "0.2209737827715356\n"
     ]
    }
   ],
   "source": [
    "#transformação de problema\n",
    "#labelpowerset\n",
    "label = LabelPowerset(classifier = SVC())\n",
    "label.fit(X_treinamento, y_treinamento)\n",
    "previsoes = label.predict(X_teste)\n",
    "print(hamming_loss(y_teste,previsoes))"
   ]
  },
  {
   "cell_type": "code",
   "execution_count": null,
   "metadata": {},
   "outputs": [],
   "source": []
  }
 ],
 "metadata": {
  "kernelspec": {
   "display_name": "Python 3",
   "language": "python",
   "name": "python3"
  },
  "language_info": {
   "codemirror_mode": {
    "name": "ipython",
    "version": 3
   },
   "file_extension": ".py",
   "mimetype": "text/x-python",
   "name": "python",
   "nbconvert_exporter": "python",
   "pygments_lexer": "ipython3",
   "version": "3.7.6"
  }
 },
 "nbformat": 4,
 "nbformat_minor": 4
}
